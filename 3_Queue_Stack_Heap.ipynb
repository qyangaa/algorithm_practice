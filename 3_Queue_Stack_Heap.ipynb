{
 "cells": [
  {
   "cell_type": "markdown",
   "metadata": {},
   "source": [
    "<h1> Queue </h1>\n",
    "FIFO\n",
    "Implemted using list in python\n",
    "reference: https://algorithm.yuanbin.me/zh-hans/basics_data_structure/heap.html"
   ]
  },
  {
   "cell_type": "code",
   "execution_count": 2,
   "metadata": {},
   "outputs": [
    {
     "data": {
      "text/plain": [
       "2"
      ]
     },
     "execution_count": 2,
     "metadata": {},
     "output_type": "execute_result"
    }
   ],
   "source": [
    "queue=[]\n",
    "size = len(queue)\n",
    "queue.append(1) #enqueue\n",
    "queue.append(2)\n",
    "queue.pop(0) #dequeue\n",
    "queue[0] #peak"
   ]
  },
  {
   "cell_type": "markdown",
   "metadata": {},
   "source": [
    "<h1> Stack </h1>\n",
    "LIFO, implemented using list"
   ]
  },
  {
   "cell_type": "code",
   "execution_count": 9,
   "metadata": {},
   "outputs": [
    {
     "name": "stdout",
     "output_type": "stream",
     "text": [
      "1\n"
     ]
    }
   ],
   "source": [
    "stack = []\n",
    "stack.append(1)\n",
    "stack.append(2) #append\n",
    "stack.pop() #pop\n",
    "print(stack[-1]) #peek\n",
    "len(stack)\n",
    "#more efficient stack\n",
    "import collections\n",
    "stack = collections.deque()"
   ]
  },
  {
   "cell_type": "markdown",
   "metadata": {},
   "source": [
    "<h1> Heap </h1>\n",
    "Normally, binary heap <br>\n",
    "current node i, left child 2i+1, right child 2i+2, parent floor((i-1)/2) <br>\n",
    "Operations <br>\n",
    "<ol>\n",
    "    <li> Max heapify operation </li>\n",
    "    <li> Create Max Heap (to all nodes) </li>\n",
    "    <li> Extract Max, and do max heapfiy operation </li>\n",
    "<ol>\n",
    "\n",
    "    \n",
    "ref: https://www.geeksforgeeks.org/max-heap-in-python/ \n",
    "    "
   ]
  },
  {
   "cell_type": "code",
   "execution_count": 19,
   "metadata": {},
   "outputs": [
    {
     "name": "stdout",
     "output_type": "stream",
     "text": [
      "The maxHeap is \n",
      "PARENT:84LEFT CHILD:22RIGHT CHILD:19PARENT:22LEFT CHILD:17RIGHT CHILD:10PARENT:19LEFT CHILD:5RIGHT CHILD:6PARENT:17LEFT CHILD:3RIGHT CHILD:9\n",
      "The Max val is 84\n"
     ]
    }
   ],
   "source": [
    "import sys\n",
    "\n",
    "class MaxHeap:\n",
    "    def __init__(self, maxsize):\n",
    "        self.maxsize = maxsize\n",
    "        self.size = 0\n",
    "        self.Heap = [0]*(self.maxsize+1) #initialize array\n",
    "        self.Heap[0] = sys.maxsize #skip first element in array for easier representation\n",
    "        self.FRONT = 1\n",
    "    def parent(self,pos):\n",
    "        return pos//2\n",
    "    def leftChild(self,pos):\n",
    "        return 2*pos\n",
    "    def rightChild(self,pos):\n",
    "        return 2*pos+1\n",
    "    def isLeaf(self,pos):\n",
    "        if pos>= (self.size//2) and pos<=self.size:\n",
    "            return True\n",
    "        return False\n",
    "    def swap(self,fpos,spos):\n",
    "        self.Heap[fpos], self.Heap[spos] = self.Heap[spos],self.Heap[fpos]\n",
    "    def maxHeapify(self,pos):\n",
    "        if not self.isLeaf(pos):\n",
    "            if self.Heap[pos]<self.Heap[self.leftChild(pos)] or self.Heap[pos]<self.Heap[self.leftChild(pos)]:\n",
    "                if self.Heap[self.leftChild(pos)]>self.Heap[self.rightChild(pos)]:\n",
    "                    self.swap(pos,self.leftChild(pos))\n",
    "                    self.maxHeapify(self.leftChild(pos))\n",
    "                else:\n",
    "                    self.swap(pos, self.rightChild(pos))\n",
    "                    self.maxHeapify(self.rightChild(pos))\n",
    "    def insert(self, element):\n",
    "        if self.size>= self.maxsize:\n",
    "            return\n",
    "        self.size+=1\n",
    "        self.Heap[self.size] = element\n",
    "        current = self.size\n",
    "        while self.Heap[current]>self.Heap[self.parent(current)]:\n",
    "            self.swap(current, self.parent(current))\n",
    "            current = self.parent(current)\n",
    "    def __repr__(self):\n",
    "        res = \"\"\n",
    "        for i in range(1, (self.size//2)+1):\n",
    "            res = res + \"PARENT:\"+str(self.Heap[i])+\"LEFT CHILD:\"+str(self.Heap[2*i])+\"RIGHT CHILD:\"+str(self.Heap[2*i+1])\n",
    "        return res\n",
    "    def extractMax(self):\n",
    "        popped = self.Heap[self.FRONT]\n",
    "        self.Heap[self.FRONT] = self.Heap[self.size] #swap\n",
    "        self.size-=1\n",
    "        self.maxHeapify(self.FRONT)\n",
    "        return popped\n",
    "\n",
    "# Driver Code \n",
    "if __name__ == \"__main__\": \n",
    "    print('The maxHeap is ') \n",
    "    minHeap = MaxHeap(15) \n",
    "    minHeap.insert(5) \n",
    "    minHeap.insert(3) \n",
    "    minHeap.insert(17) \n",
    "    minHeap.insert(10) \n",
    "    minHeap.insert(84) \n",
    "    minHeap.insert(19) \n",
    "    minHeap.insert(6) \n",
    "    minHeap.insert(22) \n",
    "    minHeap.insert(9) \n",
    "  \n",
    "    print(minHeap)\n",
    "    print(\"The Max val is \" + str(minHeap.extractMax()))"
   ]
  },
  {
   "cell_type": "code",
   "execution_count": null,
   "metadata": {},
   "outputs": [],
   "source": []
  }
 ],
 "metadata": {
  "kernelspec": {
   "display_name": "Python 3",
   "language": "python",
   "name": "python3"
  },
  "language_info": {
   "codemirror_mode": {
    "name": "ipython",
    "version": 3
   },
   "file_extension": ".py",
   "mimetype": "text/x-python",
   "name": "python",
   "nbconvert_exporter": "python",
   "pygments_lexer": "ipython3",
   "version": "3.7.7"
  }
 },
 "nbformat": 4,
 "nbformat_minor": 4
}
