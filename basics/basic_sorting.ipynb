{
 "cells": [
  {
   "cell_type": "markdown",
   "metadata": {},
   "source": [
    "<h1> Bubble Sort </h1>"
   ]
  },
  {
   "cell_type": "code",
   "execution_count": 5,
   "metadata": {},
   "outputs": [
    {
     "name": "stdout",
     "output_type": "stream",
     "text": [
      "[1, 2, 4, 6, 8, 45]\n",
      "[]\n",
      "[1]\n"
     ]
    }
   ],
   "source": [
    "def bubble_sort(array):\n",
    "    j = len(array)-1\n",
    "    while j>1:\n",
    "        for i in range(j):\n",
    "            if array[i]>array[i+1]:\n",
    "                array[i], array[i+1] = array[i+1], array[i]\n",
    "        j-=1\n",
    "    return array\n",
    "print(bubble_sort([1,45,6,2,8,4]))\n",
    "print(bubble_sort([]))\n",
    "print(bubble_sort([1]))"
   ]
  },
  {
   "cell_type": "markdown",
   "metadata": {},
   "source": [
    "<h1> Selection Sort </h1>"
   ]
  },
  {
   "cell_type": "code",
   "execution_count": 8,
   "metadata": {},
   "outputs": [
    {
     "name": "stdout",
     "output_type": "stream",
     "text": [
      "[1, 2, 6, 5, 5, 7]\n",
      "[]\n",
      "[1]\n"
     ]
    }
   ],
   "source": [
    "def selection_sort(array):\n",
    "    j = 0\n",
    "    while j<len(array)-1:\n",
    "        min_val = array[j]\n",
    "        for i in range(j+1,len(array)):\n",
    "            if array[i]< min_val:\n",
    "                array[j],array[i] = array[i],array[j]\n",
    "        j+=1\n",
    "    return array\n",
    "print(selection_sort([1,5,7,2,5,6]))\n",
    "print(selection_sort([]))\n",
    "print(selection_sort([1]))"
   ]
  },
  {
   "cell_type": "markdown",
   "metadata": {},
   "source": [
    "<h1> Insertion Sort </h1>"
   ]
  },
  {
   "cell_type": "code",
   "execution_count": 13,
   "metadata": {},
   "outputs": [
    {
     "name": "stdout",
     "output_type": "stream",
     "text": [
      "[1, 2, 2, 3, 4, 5, 6]\n",
      "[]\n",
      "[1]\n"
     ]
    }
   ],
   "source": [
    "def insertion_sort(array):\n",
    "    pivot = 1\n",
    "    while pivot<len(array):\n",
    "        i = pivot\n",
    "        val = array[pivot]\n",
    "        while i> 0 and array[i-1]>val:\n",
    "            array[i] = array[i-1]\n",
    "            i -=1\n",
    "        array[i] = val\n",
    "        pivot+=1\n",
    "    return array\n",
    "print(insertion_sort([1,2,6,4,3,2,5]))\n",
    "print(insertion_sort([])) \n",
    "print(insertion_sort([1]))  "
   ]
  },
  {
   "cell_type": "code",
   "execution_count": null,
   "metadata": {},
   "outputs": [],
   "source": []
  }
 ],
 "metadata": {
  "kernelspec": {
   "display_name": "Python 3",
   "language": "python",
   "name": "python3"
  },
  "language_info": {
   "codemirror_mode": {
    "name": "ipython",
    "version": 3
   },
   "file_extension": ".py",
   "mimetype": "text/x-python",
   "name": "python",
   "nbconvert_exporter": "python",
   "pygments_lexer": "ipython3",
   "version": "3.7.7"
  }
 },
 "nbformat": 4,
 "nbformat_minor": 4
}
