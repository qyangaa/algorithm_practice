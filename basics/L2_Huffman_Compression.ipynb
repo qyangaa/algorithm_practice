{
 "cells": [
  {
   "cell_type": "markdown",
   "metadata": {},
   "source": [
    "<h1> Huffman_compression </h1>\n",
    "Use less bits to represent symbol with higher frequency.\n",
    "<ol>\n",
    "    <li> sort symbol by frequency from small to large</li>\n",
    "    <li> add up and group smaller frequency to form sub trees </li>\n",
    "    <li> group such subtrees with larger frequency symbols </li>\n",
    "    <li> path from root to leaf gives binary representation </li>\n",
    "</ol>\n",
    "\n",
    "reference: https://algorithm.yuanbin.me/zh-hans/basics_data_structure/huffman_compression.html"
   ]
  },
  {
   "cell_type": "code",
   "execution_count": 10,
   "metadata": {},
   "outputs": [],
   "source": [
    "import heapq\n",
    "import collections\n",
    "\n",
    "def compression_rate(compressed_binary, uncompressed_bits):\n",
    "    return len(compressed_binary)*100/uncompressed_bits\n",
    "\n",
    "class SimpleCompression:\n",
    "    def __init__(self, string):\n",
    "        self.symbols = set(string) #set('1223') -> {'1','2','3'}\n",
    "        self.bit_len=1\n",
    "        while 2**self.bit_len<len(self.symbols):\n",
    "            self.bit_len+=1\n",
    "        self.string = string\n",
    "        \n",
    "        self.s2b={}\n",
    "        self.b2s={}\n",
    "        i=0\n",
    "        for s in self.symbols:\n",
    "            b=bin(i)[2:] #bin(6) -> '0b110'\n",
    "            if len(b)<self.bit_len: #if length of b is smaller than bit_len\n",
    "                b = (self.bit_len-len(b))*'0'+b #convert b to length of bit_len\n",
    "            self.s2b[s] = b\n",
    "            self.b2s[b] = s\n",
    "            i+=1\n",
    "            \n",
    "    def compress(self):\n",
    "        bits=''\n",
    "        for s in self.string:\n",
    "            bits += self.s2b[s]\n",
    "        return bits\n",
    "    \n",
    "    def uncompress(self, bits):\n",
    "        string = ''\n",
    "        for i in range(0, len(bits), self.bit_len):\n",
    "            string += self.b2s[bits[i:i+self.bit_len]]\n",
    "        return string"
   ]
  },
  {
   "cell_type": "code",
   "execution_count": 9,
   "metadata": {},
   "outputs": [
    {
     "data": {
      "text/plain": [
       "'00100'"
      ]
     },
     "execution_count": 9,
     "metadata": {},
     "output_type": "execute_result"
    }
   ],
   "source": [
    "def HuffmanCompression:\n",
    "    class Trie:\n",
    "        def __init__(self,val,char=''):\n",
    "            self.val = val\n",
    "            self.char = char\n",
    "            self.coding = ''\n",
    "            self.left = self.right = None\n",
    "        def __eq__(self, other):\n",
    "            return self.val==other.val\n",
    "        def __lt__(self, other):\n",
    "            return self.val<other.val\n",
    "        def __gt__(self,other):\n",
    "            return self.val > other.val\n",
    "    def __init__(self,string):\n",
    "        self.string = string\n",
    "        counter = collections.Counter(string)#collections.Counter('122234')->Counter({'1': 1, '2': 3, '3': 1, '4': 1})\n",
    "        heap = []\n",
    "        for char, cnt in counter.items():\n",
    "            heapq.heappush(heap, HiffmanCompression.Trie(cnt,char)) #heapq. heappush (heap, item)\n",
    "        while len(heap)!=1:\n",
    "            left = heapq.heappop(heap)\n",
    "            right = heapq.heappop(heap)\n",
    "            trie = HiffmanCompression.Trie(left.val+right.val)\n",
    "            trie.left, trie.right = left,right\n",
    "            heapq.heappush(heap,trie)\n",
    "        self.root = heap[0]\n",
    "        self.s2b={}\n",
    "        self.bfs_encode(self.root, self.s2b)\n",
    "        \n",
    "    def bfs_encode(self,root,s2b):\n",
    "        queue = collections.deque()\n",
    "        queue.append(root)\n",
    "        while queue:\n",
    "            node = queue.popleft()\n",
    "            if node.char:\n",
    "                s2b[node.char] = node.coding\n",
    "            if node.left:\n",
    "                note.left.coding = node.coding+'0'\n",
    "                queue.append(node.left)\n",
    "            if node.right:\n",
    "                node.right.coding = node.coding+'1'\n",
    "                queue.append(node.right)\n",
    "                \n",
    "    def compress(self):\n",
    "        bits=''\n",
    "        for char in self.string:\n",
    "            bits+=self.s2b[char]\n",
    "        return bits\n",
    "    \n",
    "    def uncompress(self,bits):\n",
    "        string=''\n",
    "        root = self.root\n",
    "        for bit in bits:\n",
    "            if bit=='0':\n",
    "                root = root.left\n",
    "            else:\n",
    "                root = root.right\n",
    "            if root.char:\n",
    "                string += root.char\n",
    "                root = self.root\n",
    "        return string"
   ]
  },
  {
   "cell_type": "code",
   "execution_count": 11,
   "metadata": {},
   "outputs": [
    {
     "data": {
      "text/plain": [
       "Counter({'1': 1, '2': 3, '3': 1, '4': 1})"
      ]
     },
     "execution_count": 11,
     "metadata": {},
     "output_type": "execute_result"
    }
   ],
   "source": [
    "collections.Counter('122234')"
   ]
  },
  {
   "cell_type": "code",
   "execution_count": null,
   "metadata": {},
   "outputs": [],
   "source": []
  }
 ],
 "metadata": {
  "kernelspec": {
   "display_name": "Python 3",
   "language": "python",
   "name": "python3"
  },
  "language_info": {
   "codemirror_mode": {
    "name": "ipython",
    "version": 3
   },
   "file_extension": ".py",
   "mimetype": "text/x-python",
   "name": "python",
   "nbconvert_exporter": "python",
   "pygments_lexer": "ipython3",
   "version": "3.7.7"
  }
 },
 "nbformat": 4,
 "nbformat_minor": 4
}
