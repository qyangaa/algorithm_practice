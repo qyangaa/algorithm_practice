{
 "cells": [
  {
   "cell_type": "markdown",
   "metadata": {},
   "source": [
    "<h1> String </h1>"
   ]
  },
  {
   "cell_type": "code",
   "execution_count": 11,
   "metadata": {},
   "outputs": [
    {
     "name": "stdout",
     "output_type": "stream",
     "text": [
      "8\n",
      "iao\n",
      "iao\n",
      "Arkyt\n",
      "Arkytiaotiao\n",
      "['A', 'r', 'k', 'y', 't', 'i', 'a', 'o', 't', 'i', 'a', 'o']\n",
      "t\n",
      "6\n",
      "0\n",
      "-1\n"
     ]
    }
   ],
   "source": [
    "s1=str()\n",
    "s2=\"Arkytiao\"\n",
    "print(len(s2))\n",
    "print(s2[-3:])\n",
    "print(s2[5:8])\n",
    "print(s2[:5])\n",
    "s2+=\"tiao\"\n",
    "print(s2)\n",
    "print(list(s2))\n",
    "print(s2[4])\n",
    "print(s2.index('a'))\n",
    "print(s2.find('A'))\n",
    "print(s2.find('c')) #not found, return -1"
   ]
  },
  {
   "cell_type": "markdown",
   "metadata": {},
   "source": [
    "<h1> Linked List </h1>\n",
    "Do not have adjacent memory location, only request additional memory when new item is added - saves memory\n",
    "worst case find time O(n)\n",
    "Add or delege O(1)"
   ]
  },
  {
   "cell_type": "code",
   "execution_count": 48,
   "metadata": {},
   "outputs": [
    {
     "name": "stdout",
     "output_type": "stream",
     "text": [
      "1->2->3\n",
      "1->3\n"
     ]
    }
   ],
   "source": [
    "class ListNode:\n",
    "    def __init__(self, val):\n",
    "        self.val = val\n",
    "        self.next = None\n",
    "    def reverse(self, head):\n",
    "        prev = None #prev, head->head.next\n",
    "        while head: #traverse with head directly because the last node visited will be head\n",
    "            #flip\n",
    "            temp = head.next #head->temp\n",
    "            head.next = prev #prev<-head, temp\n",
    "            #forward\n",
    "            prev, head = head, temp #prev, head->\n",
    "            #until temp is none, then prev is the final head\n",
    "        return prev\n",
    "class DListNode: #doubly linked list\n",
    "    def __init__(self, val):\n",
    "        self.val = val\n",
    "        self.prev = self.next = None\n",
    "    def __repr__(self):\n",
    "        return str(self.val)\n",
    "class LinkedList:\n",
    "    \"\"\"A Linked List construction of DListNode\"\"\"\n",
    "    def __init__(self,head):\n",
    "        self.head = head\n",
    "    def reverse(self):\n",
    "        curt = None #do not use prev here because prev is already in definition\n",
    "        head = self.head\n",
    "        while head:\n",
    "            print(head)\n",
    "            #forward\n",
    "            curt = head #curt\n",
    "            head = curt.next #curt->head\n",
    "            #flip\n",
    "            curt.next, curt.prev = curt.prev, head #curt.prev<-curt<-head\n",
    "        self.head = curt\n",
    "    def delete(self, val):\n",
    "        if not self.head:\n",
    "            print(\"value not in list\")\n",
    "            return\n",
    "        dummy = DListNode(None)\n",
    "        dummy.next = self.head\n",
    "        cur = dummy\n",
    "        while cur.next:\n",
    "            if cur.next.val == val:\n",
    "                cur.next = cur.next.next\n",
    "                if cur.next.next:\n",
    "                    cur.next.next.prev = cur\n",
    "            cur = cur.next\n",
    "        self.head = dummy.next\n",
    "    def __repr__(self): \n",
    "        \"\"\"\n",
    "        display linked list as val->val->val... \"\"\"\n",
    "        li = []\n",
    "        head = self.head\n",
    "        while head:\n",
    "            li.append(str(head.val))\n",
    "            head = head.next\n",
    "        return \"->\".join(li)\n",
    "            \n",
    "n1 = DListNode(1)\n",
    "n2 = DListNode(2)\n",
    "n3 = DListNode(3)\n",
    "n1.next = n2\n",
    "n2.prev, n2.next = n1, n3\n",
    "n3.prev = n2\n",
    "li = LinkedList(n1)\n",
    "print(li)\n",
    "li.delete(2)\n",
    "print(li)"
   ]
  },
  {
   "cell_type": "markdown",
   "metadata": {},
   "source": [
    "<h1> Binary Tree </h1>\n",
    "<ol>\n",
    "    <li> $2^{i-1}$ nodes on i'th level </li>\n",
    "    <li> depth k -> total $2^k-1$ nodes for full tree </li>\n",
    "    <li> complete binary tree: all filled except last right leaves </li>\n",
    "</ol>"
   ]
  },
  {
   "cell_type": "markdown",
   "metadata": {},
   "source": [
    "<h2> Tree traversal </h2>\n",
    "<h3> Depth First </h3>\n",
    "<ol>\n",
    "    <li> Pre-order: root, left, right </li>\n",
    "    <li> In-order: left, root, right </li>\n",
    "    <li> Post-order: left, right, root </li>\n",
    "</ol>\n",
    "<h3> Breadth First</h3>\n",
    "root, level_1 from left to right, level_2 from left to right...\n",
    "\n",
    "<h3> BST </h3>\n",
    "every left < current < right\n",
    "inorder traversal gives ordered list <br>\n",
    "reference: https://www.tutorialspoint.com/python_data_structure/python_tree_traversal_algorithms.htm"
   ]
  },
  {
   "cell_type": "code",
   "execution_count": 5,
   "metadata": {},
   "outputs": [
    {
     "name": "stdout",
     "output_type": "stream",
     "text": [
      "[10, 14, 19, 31, 35, 42]\n"
     ]
    }
   ],
   "source": [
    "class Tree:\n",
    "    def __init__(self, data=None):\n",
    "        self.left, self.right, self.data = None, None, data\n",
    "    def insert(self, data):\n",
    "        if not self.data:\n",
    "            self.data=data\n",
    "            return\n",
    "        if data<self.data:\n",
    "            if self.left is None:\n",
    "                self.left = Tree(data)\n",
    "            else:\n",
    "                self.left.insert(data)\n",
    "        else:\n",
    "            if self.right is None:\n",
    "                self.right = Tree(data)\n",
    "            else:\n",
    "                self.right.insert(data)\n",
    "    def inorderTraversal(self,node):\n",
    "        res=[]\n",
    "        if node:\n",
    "            res = self.inorderTraversal(node.left)\n",
    "            res.append(node.data)\n",
    "            res = res + self.inorderTraversal(node.right)\n",
    "        return res\n",
    "    def preorderTraversal(self,node):\n",
    "        res=[]\n",
    "        if node:\n",
    "            res.append(node.data)\n",
    "            res = res+ self.preorderTraversal(node.left)\n",
    "            res = res+ self.preorderTraversal(node.right)\n",
    "        return res\n",
    "    def postorderTraversal(self,node):\n",
    "        res=[]\n",
    "        if node:\n",
    "            res = res + self.postorderTraversal(node.left)\n",
    "            res = res + self.postorderTraversal(node.right)\n",
    "            res.append(node.data)\n",
    "        return res\n",
    "    \n",
    "\n",
    "root = Tree()\n",
    "root.insert(14)\n",
    "root.insert(35)\n",
    "root.insert(10)\n",
    "root.insert(19)\n",
    "root.insert(31)\n",
    "root.insert(42)\n",
    "print(root.inorderTraversal(root))"
   ]
  },
  {
   "cell_type": "code",
   "execution_count": null,
   "metadata": {},
   "outputs": [],
   "source": []
  }
 ],
 "metadata": {
  "kernelspec": {
   "display_name": "Python 3",
   "language": "python",
   "name": "python3"
  },
  "language_info": {
   "codemirror_mode": {
    "name": "ipython",
    "version": 3
   },
   "file_extension": ".py",
   "mimetype": "text/x-python",
   "name": "python",
   "nbconvert_exporter": "python",
   "pygments_lexer": "ipython3",
   "version": "3.7.7"
  }
 },
 "nbformat": 4,
 "nbformat_minor": 4
}
