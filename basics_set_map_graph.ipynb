{
 "cells": [
  {
   "cell_type": "markdown",
   "metadata": {},
   "source": [
    "<h1> Set </h1>\n",
    "can be implemented using set() or dictionary"
   ]
  },
  {
   "cell_type": "code",
   "execution_count": 1,
   "metadata": {},
   "outputs": [
    {
     "name": "stdout",
     "output_type": "stream",
     "text": [
      "True\n",
      "{'arky'}\n",
      "set()\n"
     ]
    }
   ],
   "source": [
    "s = set()\n",
    "s1 = {1,2,3}\n",
    "s.add('arky')\n",
    "print(1 in s1)\n",
    "print(s)\n",
    "s.remove('arky')\n",
    "print(s)"
   ]
  },
  {
   "cell_type": "markdown",
   "metadata": {},
   "source": [
    "<h1> Map </h1>\n",
    "implemented using dictionary"
   ]
  },
  {
   "cell_type": "code",
   "execution_count": 3,
   "metadata": {},
   "outputs": [
    {
     "name": "stdout",
     "output_type": "stream",
     "text": [
      "True\n",
      "12\n",
      "12\n",
      "dict_keys(['meme'])\n",
      "meme 15\n",
      "lol 55\n"
     ]
    }
   ],
   "source": [
    "hash_map={}\n",
    "hash_map['arky'] = 12\n",
    "hash_map['meme'] = 15\n",
    "print('arky' in hash_map)\n",
    "print(hash_map['arky'])\n",
    "print(hash_map.pop('arky'))\n",
    "print(hash_map.keys())\n",
    "hash_map['lol']=55\n",
    "for key, value in hash_map.items():\n",
    "    print(key, value)"
   ]
  },
  {
   "cell_type": "markdown",
   "metadata": {},
   "source": [
    "<h1> Graph </h1>\n",
    "<ol>\n",
    "    <li> Adjacency matrix </li>\n",
    "    <li> Adjacency list </li>\n",
    "    <li> directed graph </li>\n",
    "    <li> undirected graph </li>\n",
    "<ol>"
   ]
  },
  {
   "cell_type": "code",
   "execution_count": 17,
   "metadata": {},
   "outputs": [
    {
     "data": {
      "text/plain": [
       "[[0, 0, 1, 0], [0, 0, 0, 0], [0, 0, 0, 0], [0, 0, 0, 0]]"
      ]
     },
     "execution_count": 17,
     "metadata": {},
     "output_type": "execute_result"
    }
   ],
   "source": [
    "#adjacncy matrix\n",
    "class adjacency_matrix:\n",
    "    def __init__(self, vertices):\n",
    "        self.vertices = vertices\n",
    "        V = len(vertices)\n",
    "        self.vertice2index = {vertices[i]:i for i in range(V)}\n",
    "        self.graph = [[0 for _ in range(V)] for _ in range(V)]\n",
    "    def add_edge(self, start, end):\n",
    "        \"\"\"input the name of starting and end vertices as string\"\"\"\n",
    "        start_idx = self.vertice2index[start]\n",
    "        end_idx = self.vertice2index[end]\n",
    "        self.graph[start_idx][end_idx] = 1\n",
    "    def __repr__(self):\n",
    "        return str(self.graph)\n",
    "        \n",
    "v=['a','b','c','d']\n",
    "G = adjacency_matrix(v)\n",
    "G.add_edge('a','c')\n",
    "G"
   ]
  },
  {
   "cell_type": "code",
   "execution_count": 39,
   "metadata": {},
   "outputs": [],
   "source": [
    "#adjacency list implemented using linked list\n",
    "class Node:\n",
    "    def __init__(self,data):\n",
    "        self.data = data\n",
    "        self.next = None\n",
    "\n",
    "class adjacency_list:\n",
    "    def __init__(self, vertices):\n",
    "        self.graph = [Node(i) for i in vertices]\n",
    "        self.vertice2index = {vertices[i]:i for i in range(len(vertices))}\n",
    "    def add_edge(self,start,end):\n",
    "        start_idx = self.vertice2index[start]\n",
    "        start_node = self.graph[start_idx]\n",
    "        end_node = Node(end)\n",
    "        start_node.next, end_node.next = end_node, start_node.next\n",
    "    def __repr__(self):\n",
    "        res = ''\n",
    "        for i in self.graph:\n",
    "            cur_node = i\n",
    "            while cur_node:\n",
    "                if cur_node is not None:\n",
    "                    res = res+str(cur_node.data)+'->'\n",
    "                    cur_node = cur_node.next\n",
    "            res = res[:-2]+'\\n'\n",
    "        return res"
   ]
  },
  {
   "cell_type": "code",
   "execution_count": 40,
   "metadata": {},
   "outputs": [],
   "source": [
    "v=['a','b','c','d']\n",
    "G = adjacency_list(v)\n",
    "G.add_edge('a','c')\n",
    "G.add_edge('a','b')\n",
    "G.add_edge('b','c')\n",
    "G.add_edge('d','c')"
   ]
  },
  {
   "cell_type": "code",
   "execution_count": 41,
   "metadata": {},
   "outputs": [
    {
     "data": {
      "text/plain": [
       "a->b->c\n",
       "b->c\n",
       "c\n",
       "d->c"
      ]
     },
     "execution_count": 41,
     "metadata": {},
     "output_type": "execute_result"
    }
   ],
   "source": [
    "G"
   ]
  },
  {
   "cell_type": "code",
   "execution_count": null,
   "metadata": {},
   "outputs": [],
   "source": []
  }
 ],
 "metadata": {
  "kernelspec": {
   "display_name": "Python 3",
   "language": "python",
   "name": "python3"
  },
  "language_info": {
   "codemirror_mode": {
    "name": "ipython",
    "version": 3
   },
   "file_extension": ".py",
   "mimetype": "text/x-python",
   "name": "python",
   "nbconvert_exporter": "python",
   "pygments_lexer": "ipython3",
   "version": "3.7.7"
  }
 },
 "nbformat": 4,
 "nbformat_minor": 4
}
